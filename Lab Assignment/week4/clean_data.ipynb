{
 "cells": [
  {
   "cell_type": "code",
   "execution_count": 6,
   "metadata": {},
   "outputs": [],
   "source": [
    "import csv\n",
    "\n",
    "data = []\n",
    "with open('data.csv') as csv_file:\n",
    "    for row in csv.DictReader(csv_file):\n",
    "        temp = dict()\n",
    "        temp['StudentID'] = row['Student id'].strip()\n",
    "        temp['CourseID'] = row[' Course id'].strip()\n",
    "        temp['Marks'] = row[' Marks'].strip()\n",
    "        data.append(temp)"
   ]
  },
  {
   "cell_type": "code",
   "execution_count": 7,
   "metadata": {},
   "outputs": [
    {
     "data": {
      "text/plain": [
       "[{'StudentID': '1001', 'CourseID': '2001', 'Marks': '56'},\n",
       " {'StudentID': '1002', 'CourseID': '2001', 'Marks': '67'},\n",
       " {'StudentID': '1003', 'CourseID': '2001', 'Marks': '78'},\n",
       " {'StudentID': '1004', 'CourseID': '2001', 'Marks': '90'},\n",
       " {'StudentID': '1005', 'CourseID': '2001', 'Marks': '45'},\n",
       " {'StudentID': '1001', 'CourseID': '2002', 'Marks': '58'},\n",
       " {'StudentID': '1002', 'CourseID': '2002', 'Marks': '98'},\n",
       " {'StudentID': '1009', 'CourseID': '2002', 'Marks': '12'},\n",
       " {'StudentID': '1007', 'CourseID': '2002', 'Marks': '99'},\n",
       " {'StudentID': '1008', 'CourseID': '2002', 'Marks': '39'},\n",
       " {'StudentID': '1003', 'CourseID': '2003', 'Marks': '34'},\n",
       " {'StudentID': '1004', 'CourseID': '2003', 'Marks': '43'},\n",
       " {'StudentID': '1000', 'CourseID': '2003', 'Marks': '25'},\n",
       " {'StudentID': '1060', 'CourseID': '2003', 'Marks': '60'},\n",
       " {'StudentID': '1090', 'CourseID': '2003', 'Marks': '88'},\n",
       " {'StudentID': '1005', 'CourseID': '2004', 'Marks': '81'},\n",
       " {'StudentID': '1080', 'CourseID': '2004', 'Marks': '59'},\n",
       " {'StudentID': '1030', 'CourseID': '2004', 'Marks': '87'},\n",
       " {'StudentID': '1001', 'CourseID': '2004', 'Marks': '35'},\n",
       " {'StudentID': '1090', 'CourseID': '2004', 'Marks': '33'}]"
      ]
     },
     "execution_count": 7,
     "metadata": {},
     "output_type": "execute_result"
    }
   ],
   "source": [
    "data"
   ]
  },
  {
   "cell_type": "code",
   "execution_count": null,
   "metadata": {},
   "outputs": [],
   "source": []
  }
 ],
 "metadata": {
  "kernelspec": {
   "display_name": "Python 3",
   "language": "python",
   "name": "python3"
  },
  "language_info": {
   "codemirror_mode": {
    "name": "ipython",
    "version": 3
   },
   "file_extension": ".py",
   "mimetype": "text/x-python",
   "name": "python",
   "nbconvert_exporter": "python",
   "pygments_lexer": "ipython3",
   "version": "3.12.3"
  }
 },
 "nbformat": 4,
 "nbformat_minor": 2
}
